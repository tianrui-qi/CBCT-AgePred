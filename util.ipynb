{
 "cells": [
  {
   "cell_type": "code",
   "execution_count": 1,
   "metadata": {},
   "outputs": [
    {
     "name": "stderr",
     "output_type": "stream",
     "text": [
      "_getNameList: 100%|██████████| 299/299 [01:14<00:00,  4.00it/s]\n",
      "_getInfoList: 100%|██████████| 293/293 [00:00<00:00, 829.72it/s]\n"
     ]
    }
   ],
   "source": [
    "from src.data import Patient\n",
    "\n",
    "p = Patient()"
   ]
  },
  {
   "cell_type": "code",
   "execution_count": 3,
   "metadata": {},
   "outputs": [
    {
     "name": "stderr",
     "output_type": "stream",
     "text": [
      "C:\\Users\\tianrui\\AppData\\Local\\Temp\\ipykernel_43068\\185312118.py:3: DeprecationWarning: <tifffile.imsave> is deprecated. Use tifffile.imwrite\n",
      "  tifffile.imsave(\"transform.tif\", tiff.numpy())\n"
     ]
    }
   ],
   "source": [
    "import tifffile\n",
    "tiff, info = p[0]\n",
    "tifffile.imsave(\"transform.tif\", tiff.numpy())"
   ]
  }
 ],
 "metadata": {
  "kernelspec": {
   "display_name": "CBCT-AgePred",
   "language": "python",
   "name": "python3"
  },
  "language_info": {
   "codemirror_mode": {
    "name": "ipython",
    "version": 3
   },
   "file_extension": ".py",
   "mimetype": "text/x-python",
   "name": "python",
   "nbconvert_exporter": "python",
   "pygments_lexer": "ipython3",
   "version": "3.11.5"
  }
 },
 "nbformat": 4,
 "nbformat_minor": 2
}
