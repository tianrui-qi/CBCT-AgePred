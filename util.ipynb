{
 "cells": [
  {
   "cell_type": "code",
   "execution_count": 4,
   "metadata": {},
   "outputs": [
    {
     "name": "stderr",
     "output_type": "stream",
     "text": [
      "_getNameList: 100%|██████████| 299/299 [01:12<00:00,  4.15it/s]\n",
      "_getInfoList: 100%|██████████| 293/293 [00:00<00:00, 784.91it/s]\n"
     ]
    }
   ],
   "source": [
    "from src.data import Patient\n",
    "\n",
    "p = Patient()"
   ]
  },
  {
   "cell_type": "code",
   "execution_count": 5,
   "metadata": {},
   "outputs": [
    {
     "name": "stdout",
     "output_type": "stream",
     "text": [
      "torch.Size([480, 480, 480])\n"
     ]
    },
    {
     "name": "stderr",
     "output_type": "stream",
     "text": [
      "C:\\Users\\tianrui\\AppData\\Local\\Temp\\ipykernel_58836\\3891326032.py:4: DeprecationWarning: <tifffile.imsave> is deprecated. Use tifffile.imwrite\n",
      "  tifffile.imsave(\"transform.tif\", tiff.numpy())\n"
     ]
    }
   ],
   "source": [
    "import tifffile\n",
    "tiff, info = p[0]\n",
    "print(tiff.shape)\n",
    "tifffile.imsave(\"transform.tif\", tiff.numpy())"
   ]
  }
 ],
 "metadata": {
  "kernelspec": {
   "display_name": "CBCT-AgePred",
   "language": "python",
   "name": "python3"
  },
  "language_info": {
   "codemirror_mode": {
    "name": "ipython",
    "version": 3
   },
   "file_extension": ".py",
   "mimetype": "text/x-python",
   "name": "python",
   "nbconvert_exporter": "python",
   "pygments_lexer": "ipython3",
   "version": "3.11.5"
  }
 },
 "nbformat": 4,
 "nbformat_minor": 2
}
